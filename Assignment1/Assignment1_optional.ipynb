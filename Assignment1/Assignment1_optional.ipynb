{
  "cells": [
    {
      "cell_type": "code",
      "execution_count": 37,
      "metadata": {
        "colab": {
          "base_uri": "https://localhost:8080/"
        },
        "id": "yC_5gAl0PoPM",
        "outputId": "16719537-630c-4cf4-9ee3-76eac8cc2204"
      },
      "outputs": [
        {
          "name": "stdout",
          "output_type": "stream",
          "text": [
            "The dotenv extension is already loaded. To reload it, use:\n",
            "  %reload_ext dotenv\n"
          ]
        }
      ],
      "source": [
        "# !pip install -q openai datasets\n",
        "%load_ext dotenv\n",
        "%dotenv"
      ]
    },
    {
      "cell_type": "code",
      "execution_count": 38,
      "metadata": {
        "id": "HKMjqQpFl4kd"
      },
      "outputs": [],
      "source": [
        "# import json\n",
        "import numpy as np\n",
        "import pandas as pd\n",
        "from openai import AzureOpenAI\n",
        "from datasets import load_dataset\n",
        "from sklearn.metrics import classification_report\n",
        "# from google.colab import userdata\n",
        "from tqdm import tqdm\n",
        "import os"
      ]
    },
    {
      "cell_type": "code",
      "execution_count": 39,
      "metadata": {
        "id": "v3TzU6ZpnxD-"
      },
      "outputs": [],
      "source": [
        "azure_api_key = os.getenv('azure_api_key')\n",
        "azure_api_endpoint = os.getenv('azure_endpoint')"
      ]
    },
    {
      "cell_type": "code",
      "execution_count": 40,
      "metadata": {
        "id": "YxEMDfdxnzfJ"
      },
      "outputs": [],
      "source": [
        "client = AzureOpenAI(\n",
        "  azure_endpoint = azure_api_endpoint,\n",
        "  api_key=azure_api_key,\n",
        "  api_version=\"2024-02-01\"\n",
        ")"
      ]
    },
    {
      "cell_type": "code",
      "execution_count": 41,
      "metadata": {
        "id": "bqPNG9DFoKeU"
      },
      "outputs": [],
      "source": [
        "model_name = 'gpt-35-turbo' # deployment name"
      ]
    },
    {
      "cell_type": "markdown",
      "metadata": {
        "id": "xMW3J7PXG7DF"
      },
      "source": [
        "**Examples and Gold Examples**"
      ]
    },
    {
      "cell_type": "markdown",
      "metadata": {
        "id": "Dcj6vAlztVZj"
      },
      "source": [
        "A set of examples and gold examples for sentiment classification of Amazon product reviews is hosted in a HuggingFace dataset. Let us load this data and take a look at the samples in this data."
      ]
    },
    {
      "cell_type": "code",
      "execution_count": 42,
      "metadata": {
        "id": "JYq79phupnIC"
      },
      "outputs": [],
      "source": [
        "amazon_reviews_examples_df = pd.read_pickle(\"synthetic_data/loan_application_data_examples.pkl\")\n",
        "amazon_reviews_gold_examples_df = pd.read_pickle(\"synthetic_data/loan_application_data_gold_examples.pkl\")"
      ]
    },
    {
      "cell_type": "code",
      "execution_count": 43,
      "metadata": {
        "colab": {
          "base_uri": "https://localhost:8080/"
        },
        "id": "bC7Qat-Dprud",
        "outputId": "46892d63-69fb-4951-8420-057020a30e8a"
      },
      "outputs": [
        {
          "data": {
            "text/plain": [
              "((20, 8), (30, 8))"
            ]
          },
          "execution_count": 43,
          "metadata": {},
          "output_type": "execute_result"
        }
      ],
      "source": [
        "amazon_reviews_examples_df.shape, amazon_reviews_gold_examples_df.shape"
      ]
    },
    {
      "cell_type": "markdown",
      "metadata": {
        "id": "FSrbzAq-9UpQ"
      },
      "source": [
        "As the above outputs indicate, there are 20 examples and 30 gold examples. We will sample from the examples to create the few shot prompt and evaluate the prompt on all 30 gold examples."
      ]
    },
    {
      "cell_type": "code",
      "execution_count": 44,
      "metadata": {
        "colab": {
          "base_uri": "https://localhost:8080/",
          "height": 174
        },
        "id": "5U0QBAL1thjq",
        "outputId": "b88a0cd8-9658-4dc3-fc02-c11c692f111c"
      },
      "outputs": [
        {
          "data": {
            "text/html": [
              "<div>\n",
              "<style scoped>\n",
              "    .dataframe tbody tr th:only-of-type {\n",
              "        vertical-align: middle;\n",
              "    }\n",
              "\n",
              "    .dataframe tbody tr th {\n",
              "        vertical-align: top;\n",
              "    }\n",
              "\n",
              "    .dataframe thead th {\n",
              "        text-align: right;\n",
              "    }\n",
              "</style>\n",
              "<table border=\"1\" class=\"dataframe\">\n",
              "  <thead>\n",
              "    <tr style=\"text-align: right;\">\n",
              "      <th></th>\n",
              "      <th>Application No.</th>\n",
              "      <th>Income</th>\n",
              "      <th>Credit Score</th>\n",
              "      <th>Family Members</th>\n",
              "      <th>Outstanding Debt</th>\n",
              "      <th>Loan Request</th>\n",
              "      <th>Employment Status</th>\n",
              "      <th>Loan Decision</th>\n",
              "    </tr>\n",
              "  </thead>\n",
              "  <tbody>\n",
              "    <tr>\n",
              "      <th>11</th>\n",
              "      <td>12</td>\n",
              "      <td>3741.76</td>\n",
              "      <td>640</td>\n",
              "      <td>4</td>\n",
              "      <td>3853.91</td>\n",
              "      <td>17211.04</td>\n",
              "      <td>Unemployed</td>\n",
              "      <td>Not Approved</td>\n",
              "    </tr>\n",
              "    <tr>\n",
              "      <th>17</th>\n",
              "      <td>18</td>\n",
              "      <td>4563.75</td>\n",
              "      <td>737</td>\n",
              "      <td>2</td>\n",
              "      <td>1299.52</td>\n",
              "      <td>46329.88</td>\n",
              "      <td>Employed</td>\n",
              "      <td>Approved</td>\n",
              "    </tr>\n",
              "    <tr>\n",
              "      <th>0</th>\n",
              "      <td>1</td>\n",
              "      <td>2842.71</td>\n",
              "      <td>379</td>\n",
              "      <td>0</td>\n",
              "      <td>3134.60</td>\n",
              "      <td>11572.01</td>\n",
              "      <td>Employed</td>\n",
              "      <td>Not Approved</td>\n",
              "    </tr>\n",
              "    <tr>\n",
              "      <th>2</th>\n",
              "      <td>3</td>\n",
              "      <td>8248.10</td>\n",
              "      <td>532</td>\n",
              "      <td>5</td>\n",
              "      <td>2023.62</td>\n",
              "      <td>7019.05</td>\n",
              "      <td>Self-Employed</td>\n",
              "      <td>Not Approved</td>\n",
              "    </tr>\n",
              "  </tbody>\n",
              "</table>\n",
              "</div>"
            ],
            "text/plain": [
              "    Application No.   Income  Credit Score  Family Members  Outstanding Debt  \\\n",
              "11               12  3741.76           640               4           3853.91   \n",
              "17               18  4563.75           737               2           1299.52   \n",
              "0                 1  2842.71           379               0           3134.60   \n",
              "2                 3  8248.10           532               5           2023.62   \n",
              "\n",
              "    Loan Request Employment Status Loan Decision  \n",
              "11      17211.04        Unemployed  Not Approved  \n",
              "17      46329.88          Employed      Approved  \n",
              "0       11572.01          Employed  Not Approved  \n",
              "2        7019.05     Self-Employed  Not Approved  "
            ]
          },
          "execution_count": 44,
          "metadata": {},
          "output_type": "execute_result"
        }
      ],
      "source": [
        "amazon_reviews_examples_df.sample(4)\n",
        "#amazon_reviews_examples_df"
      ]
    },
    {
      "cell_type": "code",
      "execution_count": 45,
      "metadata": {
        "id": "AFrvINedKcQe"
      },
      "outputs": [],
      "source": [
        "#amazon_reviews_gold_examples_df"
      ]
    },
    {
      "cell_type": "markdown",
      "metadata": {
        "id": "Wf7ecnpzuq_e"
      },
      "source": [
        "**Assembling the prompt**"
      ]
    },
    {
      "cell_type": "code",
      "execution_count": 46,
      "metadata": {
        "id": "9crSD8mBrGeE"
      },
      "outputs": [],
      "source": [
        "system_message = \"\"\"\n",
        "You are a loan approval application, to determine whether the loan should be approved or not. The business logic will follow a series of checks and calculations to ensure responsible lending based on risk factors like income, credit score, and family responsibilities. Approach as below:\n",
        "Business Logic for Loan Approval:\n",
        "1. Eligibility Verification (Initial Checks)\n",
        "Before proceeding with risk assessment, we ensure that all necessary customer details are provided and meet basic eligibility criteria:\n",
        "•\tIncome: Ensure that income is provided (either monthly or annually).\n",
        "•\tCredit Score: Ensure the credit score is a valid number (typically between 300 and 850).\n",
        "•\tFamily Members: Ensure the number of family members is provided (must be a positive integer).\n",
        "•\tEmployment Status: Ensure that employment status is provided (employed/self-employed/unemployed).\n",
        "•\tLoan Amount: Ensure the loan amount requested is specified.\n",
        "•\tOutstanding Debts: If provided, these should be accounted for in assessing the customer’s financial obligations.\n",
        "If any of these details are missing or invalid, do not proceed further and the application should return \"Not Approved\" with an explanation like \"Missing or invalid customer details.\"\n",
        "2. Risk Assessment Score Calculation\n",
        "Once the necessary details are verified, we calculate a Risk Score based on three main factors: Credit Score, Income Stability, and Family Responsibilities.\n",
        "•\tCredit Score (Weight: 50%):\n",
        "o\tScore Range:\n",
        "\t720+ (Excellent) = 5 points\n",
        "\t680–719 (Good) = 4 points\n",
        "\t640–679 (Fair) = 3 points\n",
        "\t600–639 (Poor) = 2 points\n",
        "\tBelow 600 (Very Poor) = 1 point\n",
        "o\tThe higher the credit score, the more favourable it is for approval.\n",
        "•\tIncome Stability (Weight: 30%):\n",
        "o\tIncome is evaluated based on how well it can cover the loan request, existing debt, and family needs. Use the Debt-to-Income Ratio (DTI), calculated as: DTI=Total Monthly Debt Payments (incl. loan)Monthly Income×100\\text{DTI} = \\frac{\\text{Total Monthly Debt Payments (incl. loan)} }{\\text{Monthly Income}} \\times 100DTI=Monthly IncomeTotal Monthly Debt Payments (incl. loan)×100\n",
        "\tDTI < 35% (Low Risk) = 5 points\n",
        "\tDTI 35%–49% (Moderate Risk) = 3 points\n",
        "\tDTI ≥ 50% (High Risk) = 1 point\n",
        "o\tLower DTI suggests a higher ability to repay the loan.\n",
        "•\tFamily Responsibilities (Weight: 20%):\n",
        "o\tThe number of dependents impacts financial obligations. More dependents may reduce disposable income.\n",
        "\t0–1 dependents = 5 points\n",
        "\t2–3 dependents = 3 points\n",
        "\t4+ dependents = 1 point\n",
        "3. Decision Based on Risk Score\n",
        "Combine the scores from each factor and calculate the total Risk Score. The maximum possible score is 5 (Credit Score) + 5 (Income) + 5 (Family) = 15 points.\n",
        "•\tApproval Threshold:\n",
        "o\tApproved: Risk Score ≥ 10\n",
        "o\tNot Approved: Risk Score < 10\n",
        "4. Detailed Decision Output\n",
        "If any of these input details are missing or invalid, do not proceed further and the application should return \"Not Approved\" with an explanation like \"Missing or invalid customer details.\"\n",
        "•\tApproved: \"Your loan has been approved based on your strong credit score, manageable debt-to-income ratio, and household size.\"\n",
        "•\tNot Approved: Specific reasons for rejection should be provided, such as:\n",
        "o\t\"Your loan application was not approved due to a low credit score.\"\n",
        "o\t\"Your debt-to-income ratio exceeds the acceptable threshold, indicating a high risk.\"\n",
        "o\t\"Your family responsibilities and existing debts reduce your disposable income.\"\n",
        "\"\"\""
      ]
    },
    {
      "cell_type": "code",
      "execution_count": 47,
      "metadata": {
        "id": "T9JoeQY4rpqA"
      },
      "outputs": [],
      "source": [
        "few_shot_prompt = [{'role':'system', 'content': system_message}]"
      ]
    },
    {
      "cell_type": "markdown",
      "metadata": {
        "id": "v5izQDTZ0j9W"
      },
      "source": [
        "We need to iterate over the rows of the examples DataFrame to append these examples as `user` and `assistant` messages to the few-shot prompt. We achieve this using the `iterrows` method."
      ]
    },
    {
      "cell_type": "code",
      "execution_count": 48,
      "metadata": {
        "colab": {
          "base_uri": "https://localhost:8080/"
        },
        "id": "Y7m-fcy3tlV_",
        "outputId": "664d3d7f-470e-450f-c90f-92f9d85d2c72"
      },
      "outputs": [
        {
          "name": "stdout",
          "output_type": "stream",
          "text": [
            "Example input: \n",
            " Application No.: 1 \n",
            " Income: 2842.71 \n",
            " Credit Score: 379  \n",
            " Family Members: 0 \n",
            " Outstanding Debt: 3134.6 \n",
            " Loan Request: 11572.01 \n",
            " Employment Status: Employed\n",
            "Loan Decision: Not Approved\n"
          ]
        },
        {
          "name": "stderr",
          "output_type": "stream",
          "text": [
            "C:\\Users\\GX171TT\\AppData\\Local\\Temp\\ipykernel_33720\\2814090361.py:2: FutureWarning: Series.__getitem__ treating keys as positions is deprecated. In a future version, integer keys will always be treated as labels (consistent with DataFrame behavior). To access a value by position, use `ser.iloc[pos]`\n",
            "  print('Example input: \\n Application No.: ' + str(row[0]) +' \\n Income: '+ str(row[1])\n",
            "C:\\Users\\GX171TT\\AppData\\Local\\Temp\\ipykernel_33720\\2814090361.py:3: FutureWarning: Series.__getitem__ treating keys as positions is deprecated. In a future version, integer keys will always be treated as labels (consistent with DataFrame behavior). To access a value by position, use `ser.iloc[pos]`\n",
            "  + ' \\n Credit Score: '+ str(row[2]) +'  \\n Family Members: '+ str(row[3])\n",
            "C:\\Users\\GX171TT\\AppData\\Local\\Temp\\ipykernel_33720\\2814090361.py:4: FutureWarning: Series.__getitem__ treating keys as positions is deprecated. In a future version, integer keys will always be treated as labels (consistent with DataFrame behavior). To access a value by position, use `ser.iloc[pos]`\n",
            "  +' \\n Outstanding Debt: '+ str(row[4]) +' \\n Loan Request: '+ str(row[5])\n",
            "C:\\Users\\GX171TT\\AppData\\Local\\Temp\\ipykernel_33720\\2814090361.py:5: FutureWarning: Series.__getitem__ treating keys as positions is deprecated. In a future version, integer keys will always be treated as labels (consistent with DataFrame behavior). To access a value by position, use `ser.iloc[pos]`\n",
            "  +' \\n Employment Status: '+ str(row[6]))\n",
            "C:\\Users\\GX171TT\\AppData\\Local\\Temp\\ipykernel_33720\\2814090361.py:6: FutureWarning: Series.__getitem__ treating keys as positions is deprecated. In a future version, integer keys will always be treated as labels (consistent with DataFrame behavior). To access a value by position, use `ser.iloc[pos]`\n",
            "  print('Loan Decision: '+ row[7])\n"
          ]
        }
      ],
      "source": [
        "for index, row in amazon_reviews_examples_df.iterrows():\n",
        "    print('Example input: \\n Application No.: ' + str(row[0]) +' \\n Income: '+ str(row[1]) \n",
        "          + ' \\n Credit Score: '+ str(row[2]) +'  \\n Family Members: '+ str(row[3])\n",
        "          +' \\n Outstanding Debt: '+ str(row[4]) +' \\n Loan Request: '+ str(row[5])\n",
        "          +' \\n Employment Status: '+ str(row[6]))\n",
        "    print('Loan Decision: '+ row[7])\n",
        "    break"
      ]
    },
    {
      "cell_type": "markdown",
      "metadata": {
        "id": "SpMyQLofvxqP"
      },
      "source": [
        "Notice that the label is an integer. However, LLMs accept only strings. So we need to convert the integer label to a string label as we assemble the few-shot prompt. Let us assemble a few-shot prompt with 4 examples."
      ]
    },
    {
      "cell_type": "code",
      "execution_count": 49,
      "metadata": {
        "colab": {
          "base_uri": "https://localhost:8080/"
        },
        "id": "F45zzgN2tnKX",
        "outputId": "2d91362f-035e-4355-e9d5-e4ea353e42d4"
      },
      "outputs": [
        {
          "name": "stderr",
          "output_type": "stream",
          "text": [
            "C:\\Users\\GX171TT\\AppData\\Local\\Temp\\ipykernel_33720\\3712856136.py:2: FutureWarning: Series.__getitem__ treating keys as positions is deprecated. In a future version, integer keys will always be treated as labels (consistent with DataFrame behavior). To access a value by position, use `ser.iloc[pos]`\n",
            "  example_inp = ('Example input: \\n Application No.: ' + str(row[0]) +' \\n Income: '+ str(row[1])\n",
            "C:\\Users\\GX171TT\\AppData\\Local\\Temp\\ipykernel_33720\\3712856136.py:3: FutureWarning: Series.__getitem__ treating keys as positions is deprecated. In a future version, integer keys will always be treated as labels (consistent with DataFrame behavior). To access a value by position, use `ser.iloc[pos]`\n",
            "  + ' \\n Credit Score: '+ str(row[2]) +'  \\n Family Members: '+ str(row[3])\n",
            "C:\\Users\\GX171TT\\AppData\\Local\\Temp\\ipykernel_33720\\3712856136.py:4: FutureWarning: Series.__getitem__ treating keys as positions is deprecated. In a future version, integer keys will always be treated as labels (consistent with DataFrame behavior). To access a value by position, use `ser.iloc[pos]`\n",
            "  +' \\n Outstanding Debt: '+ str(row[4]) +' \\n Loan Request: '+ str(row[5])\n",
            "C:\\Users\\GX171TT\\AppData\\Local\\Temp\\ipykernel_33720\\3712856136.py:5: FutureWarning: Series.__getitem__ treating keys as positions is deprecated. In a future version, integer keys will always be treated as labels (consistent with DataFrame behavior). To access a value by position, use `ser.iloc[pos]`\n",
            "  +' \\n Employment Status: '+ str(row[6]))\n",
            "C:\\Users\\GX171TT\\AppData\\Local\\Temp\\ipykernel_33720\\3712856136.py:6: FutureWarning: Series.__getitem__ treating keys as positions is deprecated. In a future version, integer keys will always be treated as labels (consistent with DataFrame behavior). To access a value by position, use `ser.iloc[pos]`\n",
            "  example_app = row[7]\n"
          ]
        }
      ],
      "source": [
        "for index, row in amazon_reviews_examples_df.sample(8).iterrows():\n",
        "    example_inp = ('Example input: \\n Application No.: ' + str(row[0]) +' \\n Income: '+ str(row[1]) \n",
        "          + ' \\n Credit Score: '+ str(row[2]) +'  \\n Family Members: '+ str(row[3])\n",
        "          +' \\n Outstanding Debt: '+ str(row[4]) +' \\n Loan Request: '+ str(row[5])\n",
        "          +' \\n Employment Status: '+ str(row[6]))\n",
        "    example_app = row[7]\n",
        "\n",
        "    few_shot_prompt.append(\n",
        "        {\n",
        "            'role': 'user',\n",
        "            'content': example_inp\n",
        "        }\n",
        "    )\n",
        "\n",
        "    few_shot_prompt.append(\n",
        "        {\n",
        "            'role': 'assistant',\n",
        "            'content': str(example_app) # LLMs accept only string inputs\n",
        "        }\n",
        "    )"
      ]
    },
    {
      "cell_type": "code",
      "execution_count": 50,
      "metadata": {
        "colab": {
          "base_uri": "https://localhost:8080/"
        },
        "id": "pgITVykst3YA",
        "outputId": "4378a2bc-b57f-443d-e19b-7f475efcd4c8"
      },
      "outputs": [
        {
          "data": {
            "text/plain": [
              "[{'role': 'system',\n",
              "  'content': '\\nYou are a loan approval application, to determine whether the loan should be approved or not. The business logic will follow a series of checks and calculations to ensure responsible lending based on risk factors like income, credit score, and family responsibilities. Approach as below:\\nBusiness Logic for Loan Approval:\\n1. Eligibility Verification (Initial Checks)\\nBefore proceeding with risk assessment, we ensure that all necessary customer details are provided and meet basic eligibility criteria:\\n•\\tIncome: Ensure that income is provided (either monthly or annually).\\n•\\tCredit Score: Ensure the credit score is a valid number (typically between 300 and 850).\\n•\\tFamily Members: Ensure the number of family members is provided (must be a positive integer).\\n•\\tEmployment Status: Ensure that employment status is provided (employed/self-employed/unemployed).\\n•\\tLoan Amount: Ensure the loan amount requested is specified.\\n•\\tOutstanding Debts: If provided, these should be accounted for in assessing the customer’s financial obligations.\\nIf any of these details are missing or invalid, do not proceed further and the application should return \"Not Approved\" with an explanation like \"Missing or invalid customer details.\"\\n2. Risk Assessment Score Calculation\\nOnce the necessary details are verified, we calculate a Risk Score based on three main factors: Credit Score, Income Stability, and Family Responsibilities.\\n•\\tCredit Score (Weight: 50%):\\no\\tScore Range:\\n\\uf0a7\\t720+ (Excellent) = 5 points\\n\\uf0a7\\t680–719 (Good) = 4 points\\n\\uf0a7\\t640–679 (Fair) = 3 points\\n\\uf0a7\\t600–639 (Poor) = 2 points\\n\\uf0a7\\tBelow 600 (Very Poor) = 1 point\\no\\tThe higher the credit score, the more favourable it is for approval.\\n•\\tIncome Stability (Weight: 30%):\\no\\tIncome is evaluated based on how well it can cover the loan request, existing debt, and family needs. Use the Debt-to-Income Ratio (DTI), calculated as: DTI=Total Monthly Debt Payments (incl. loan)Monthly Income×100\\text{DTI} = \\x0crac{\\text{Total Monthly Debt Payments (incl. loan)} }{\\text{Monthly Income}} \\times 100DTI=Monthly IncomeTotal Monthly Debt Payments (incl. loan)×100\\n\\uf0a7\\tDTI < 35% (Low Risk) = 5 points\\n\\uf0a7\\tDTI 35%–49% (Moderate Risk) = 3 points\\n\\uf0a7\\tDTI ≥ 50% (High Risk) = 1 point\\no\\tLower DTI suggests a higher ability to repay the loan.\\n•\\tFamily Responsibilities (Weight: 20%):\\no\\tThe number of dependents impacts financial obligations. More dependents may reduce disposable income.\\n\\uf0a7\\t0–1 dependents = 5 points\\n\\uf0a7\\t2–3 dependents = 3 points\\n\\uf0a7\\t4+ dependents = 1 point\\n3. Decision Based on Risk Score\\nCombine the scores from each factor and calculate the total Risk Score. The maximum possible score is 5 (Credit Score) + 5 (Income) + 5 (Family) = 15 points.\\n•\\tApproval Threshold:\\no\\tApproved: Risk Score ≥ 10\\no\\tNot Approved: Risk Score < 10\\n4. Detailed Decision Output\\nIf any of these input details are missing or invalid, do not proceed further and the application should return \"Not Approved\" with an explanation like \"Missing or invalid customer details.\"\\n•\\tApproved: \"Your loan has been approved based on your strong credit score, manageable debt-to-income ratio, and household size.\"\\n•\\tNot Approved: Specific reasons for rejection should be provided, such as:\\no\\t\"Your loan application was not approved due to a low credit score.\"\\no\\t\"Your debt-to-income ratio exceeds the acceptable threshold, indicating a high risk.\"\\no\\t\"Your family responsibilities and existing debts reduce your disposable income.\"\\n'},\n",
              " {'role': 'user',\n",
              "  'content': 'Example input: \\n Application No.: 8 \\n Income: 9377.53 \\n Credit Score: 744  \\n Family Members: 4 \\n Outstanding Debt: 2956.51 \\n Loan Request: 22232.8 \\n Employment Status: Employed'},\n",
              " {'role': 'assistant', 'content': 'Not Approved'},\n",
              " {'role': 'user',\n",
              "  'content': 'Example input: \\n Application No.: 17 \\n Income: 6510.32 \\n Credit Score: 501  \\n Family Members: 1 \\n Outstanding Debt: 3029.27 \\n Loan Request: 33407.86 \\n Employment Status: Employed'},\n",
              " {'role': 'assistant', 'content': 'Not Approved'},\n",
              " {'role': 'user',\n",
              "  'content': 'Example input: \\n Application No.: 7 \\n Income: 9524.73 \\n Credit Score: 346  \\n Family Members: 2 \\n Outstanding Debt: 3378.19 \\n Loan Request: 46815.03 \\n Employment Status: Unemployed'},\n",
              " {'role': 'assistant', 'content': 'Not Approved'},\n",
              " {'role': 'user',\n",
              "  'content': 'Example input: \\n Application No.: 2 \\n Income: 4841.08 \\n Credit Score: 347  \\n Family Members: 0 \\n Outstanding Debt: 966.52 \\n Loan Request: 20687.69 \\n Employment Status: Self-Employed'},\n",
              " {'role': 'assistant', 'content': 'Approved'},\n",
              " {'role': 'user',\n",
              "  'content': 'Example input: \\n Application No.: 20 \\n Income: 3346.33 \\n Credit Score: 642  \\n Family Members: 2 \\n Outstanding Debt: 1401.2 \\n Loan Request: 22662.57 \\n Employment Status: Employed'},\n",
              " {'role': 'assistant', 'content': 'Not Approved'},\n",
              " {'role': 'user',\n",
              "  'content': 'Example input: \\n Application No.: 19 \\n Income: 7973.28 \\n Credit Score: 847  \\n Family Members: 4 \\n Outstanding Debt: 375.69 \\n Loan Request: 11894.99 \\n Employment Status: Unemployed'},\n",
              " {'role': 'assistant', 'content': 'Approved'},\n",
              " {'role': 'user',\n",
              "  'content': 'Example input: \\n Application No.: 16 \\n Income: 9653.12 \\n Credit Score: 502  \\n Family Members: 2 \\n Outstanding Debt: 445.58 \\n Loan Request: 39725.29 \\n Employment Status: Self-Employed'},\n",
              " {'role': 'assistant', 'content': 'Not Approved'},\n",
              " {'role': 'user',\n",
              "  'content': 'Example input: \\n Application No.: 9 \\n Income: 6114.15 \\n Credit Score: 564  \\n Family Members: 5 \\n Outstanding Debt: 537.53 \\n Loan Request: 10646.29 \\n Employment Status: Unemployed'},\n",
              " {'role': 'assistant', 'content': 'Not Approved'}]"
            ]
          },
          "execution_count": 50,
          "metadata": {},
          "output_type": "execute_result"
        }
      ],
      "source": [
        "few_shot_prompt"
      ]
    },
    {
      "cell_type": "markdown",
      "metadata": {
        "id": "nAR-GCpMualX"
      },
      "source": [
        "We now have 4 examples in the few shot prompt that is ready for use. Before we deploy this prompt, we need to get an estimate of the performance of this prompt. Here is where we use gold examples to estimate the accuracy."
      ]
    },
    {
      "cell_type": "markdown",
      "metadata": {
        "id": "YLD_THvdu0VF"
      },
      "source": [
        "## Evaluation"
      ]
    },
    {
      "cell_type": "code",
      "execution_count": 51,
      "metadata": {
        "id": "IAieHuHjvVoq"
      },
      "outputs": [],
      "source": [
        "predictions, ground_truths = [], []"
      ]
    },
    {
      "cell_type": "code",
      "execution_count": 52,
      "metadata": {
        "colab": {
          "base_uri": "https://localhost:8080/"
        },
        "id": "jmUWVnzAt4v6",
        "outputId": "78ab7ac7-74c6-4a69-973d-1abdd5c0e038"
      },
      "outputs": [
        {
          "name": "stderr",
          "output_type": "stream",
          "text": [
            "0it [00:00, ?it/s]C:\\Users\\GX171TT\\AppData\\Local\\Temp\\ipykernel_33720\\3475933157.py:2: FutureWarning: Series.__getitem__ treating keys as positions is deprecated. In a future version, integer keys will always be treated as labels (consistent with DataFrame behavior). To access a value by position, use `ser.iloc[pos]`\n",
            "  gold_inp = ('Example input: \\n Application No.: ' + str(row[0]) +' \\n Income: '+ str(row[1])\n",
            "C:\\Users\\GX171TT\\AppData\\Local\\Temp\\ipykernel_33720\\3475933157.py:3: FutureWarning: Series.__getitem__ treating keys as positions is deprecated. In a future version, integer keys will always be treated as labels (consistent with DataFrame behavior). To access a value by position, use `ser.iloc[pos]`\n",
            "  + ' \\n Credit Score: '+ str(row[2]) +'  \\n Family Members: '+ str(row[3])\n",
            "C:\\Users\\GX171TT\\AppData\\Local\\Temp\\ipykernel_33720\\3475933157.py:4: FutureWarning: Series.__getitem__ treating keys as positions is deprecated. In a future version, integer keys will always be treated as labels (consistent with DataFrame behavior). To access a value by position, use `ser.iloc[pos]`\n",
            "  +' \\n Outstanding Debt: '+ str(row[4]) +' \\n Loan Request: '+ str(row[5])\n",
            "C:\\Users\\GX171TT\\AppData\\Local\\Temp\\ipykernel_33720\\3475933157.py:5: FutureWarning: Series.__getitem__ treating keys as positions is deprecated. In a future version, integer keys will always be treated as labels (consistent with DataFrame behavior). To access a value by position, use `ser.iloc[pos]`\n",
            "  +' \\n Employment Status: '+ str(row[6]))\n",
            "C:\\Users\\GX171TT\\AppData\\Local\\Temp\\ipykernel_33720\\3475933157.py:6: FutureWarning: Series.__getitem__ treating keys as positions is deprecated. In a future version, integer keys will always be treated as labels (consistent with DataFrame behavior). To access a value by position, use `ser.iloc[pos]`\n",
            "  gold_app = row[7]\n",
            "30it [00:12,  2.34it/s]\n"
          ]
        }
      ],
      "source": [
        "for index, row in tqdm(amazon_reviews_gold_examples_df.iterrows()):\n",
        "    gold_inp = ('Example input: \\n Application No.: ' + str(row[0]) +' \\n Income: '+ str(row[1]) \n",
        "          + ' \\n Credit Score: '+ str(row[2]) +'  \\n Family Members: '+ str(row[3])\n",
        "          +' \\n Outstanding Debt: '+ str(row[4]) +' \\n Loan Request: '+ str(row[5])\n",
        "          +' \\n Employment Status: '+ str(row[6]))\n",
        "    gold_app = row[7]\n",
        "\n",
        "    user_input = [{'role':'user', 'content': gold_inp}]\n",
        "\n",
        "    try:\n",
        "        response = client.chat.completions.create(\n",
        "            model=model_name,\n",
        "            messages=few_shot_prompt + user_input,\n",
        "            temperature=0\n",
        "        )\n",
        "\n",
        "        predictions.append(response.choices[0].message.content) \n",
        "        ground_truths.append(gold_app)\n",
        "    except Exception as e:\n",
        "        print(e) # Log error and continue\n",
        "        continue"
      ]
    },
    {
      "cell_type": "code",
      "execution_count": 53,
      "metadata": {
        "colab": {
          "base_uri": "https://localhost:8080/"
        },
        "id": "FnJZokG2w4IM",
        "outputId": "a669076e-497d-4a85-cec7-a08b45207489"
      },
      "outputs": [
        {
          "data": {
            "text/plain": [
              "0.8333333333333334"
            ]
          },
          "execution_count": 53,
          "metadata": {},
          "output_type": "execute_result"
        }
      ],
      "source": [
        "predictions = np.array(predictions)\n",
        "ground_truths = np.array(ground_truths)\n",
        "(predictions == ground_truths).mean()"
      ]
    },
    {
      "cell_type": "markdown",
      "metadata": {
        "id": "wkqxz6m0J0JX"
      },
      "source": [
        "The output above indicates that the accuracy of the few-shot prompt on gold examples. More fine-grained evaluation (e.g., F1 score) could also be used to establish the estimated accuracy of the prompt."
      ]
    },
    {
      "cell_type": "code",
      "execution_count": 54,
      "metadata": {
        "colab": {
          "base_uri": "https://localhost:8080/"
        },
        "id": "dhIyzVQGVozS",
        "outputId": "b6f1b2b7-64a4-486d-ebe4-95caf00c5772"
      },
      "outputs": [
        {
          "name": "stdout",
          "output_type": "stream",
          "text": [
            "              precision    recall  f1-score   support\n",
            "\n",
            "    Approved       0.50      0.40      0.44         5\n",
            "Not Approved       0.88      0.92      0.90        25\n",
            "\n",
            "    accuracy                           0.83        30\n",
            "   macro avg       0.69      0.66      0.67        30\n",
            "weighted avg       0.82      0.83      0.83        30\n",
            "\n"
          ]
        }
      ],
      "source": [
        "print(classification_report(ground_truths, predictions))"
      ]
    },
    {
      "cell_type": "markdown",
      "metadata": {
        "id": "vIzp_5Hvu5xX"
      },
      "source": [
        ">More examples does not imply better accuracy. Increasing the number of examples in the few-shot prompt beyond 16 is not known to yield better performance."
      ]
    }
  ],
  "metadata": {
    "colab": {
      "provenance": []
    },
    "kernelspec": {
      "display_name": "venv",
      "language": "python",
      "name": "python3"
    },
    "language_info": {
      "codemirror_mode": {
        "name": "ipython",
        "version": 3
      },
      "file_extension": ".py",
      "mimetype": "text/x-python",
      "name": "python",
      "nbconvert_exporter": "python",
      "pygments_lexer": "ipython3",
      "version": "3.12.7"
    },
    "widgets": {
      "application/vnd.jupyter.widget-state+json": {
        "0507f7238210431b8c76c82c9bc2f1cf": {
          "model_module": "@jupyter-widgets/base",
          "model_module_version": "1.2.0",
          "model_name": "LayoutModel",
          "state": {
            "_model_module": "@jupyter-widgets/base",
            "_model_module_version": "1.2.0",
            "_model_name": "LayoutModel",
            "_view_count": null,
            "_view_module": "@jupyter-widgets/base",
            "_view_module_version": "1.2.0",
            "_view_name": "LayoutView",
            "align_content": null,
            "align_items": null,
            "align_self": null,
            "border": null,
            "bottom": null,
            "display": null,
            "flex": null,
            "flex_flow": null,
            "grid_area": null,
            "grid_auto_columns": null,
            "grid_auto_flow": null,
            "grid_auto_rows": null,
            "grid_column": null,
            "grid_gap": null,
            "grid_row": null,
            "grid_template_areas": null,
            "grid_template_columns": null,
            "grid_template_rows": null,
            "height": null,
            "justify_content": null,
            "justify_items": null,
            "left": null,
            "margin": null,
            "max_height": null,
            "max_width": null,
            "min_height": null,
            "min_width": null,
            "object_fit": null,
            "object_position": null,
            "order": null,
            "overflow": null,
            "overflow_x": null,
            "overflow_y": null,
            "padding": null,
            "right": null,
            "top": null,
            "visibility": null,
            "width": null
          }
        },
        "06e03546f526472fbeb1968f0f7ebfb4": {
          "model_module": "@jupyter-widgets/controls",
          "model_module_version": "1.5.0",
          "model_name": "DescriptionStyleModel",
          "state": {
            "_model_module": "@jupyter-widgets/controls",
            "_model_module_version": "1.5.0",
            "_model_name": "DescriptionStyleModel",
            "_view_count": null,
            "_view_module": "@jupyter-widgets/base",
            "_view_module_version": "1.2.0",
            "_view_name": "StyleView",
            "description_width": ""
          }
        },
        "08d66f7fdde940fd8dea1c61009f1aa0": {
          "model_module": "@jupyter-widgets/controls",
          "model_module_version": "1.5.0",
          "model_name": "DescriptionStyleModel",
          "state": {
            "_model_module": "@jupyter-widgets/controls",
            "_model_module_version": "1.5.0",
            "_model_name": "DescriptionStyleModel",
            "_view_count": null,
            "_view_module": "@jupyter-widgets/base",
            "_view_module_version": "1.2.0",
            "_view_name": "StyleView",
            "description_width": ""
          }
        },
        "0b120e7dce9a4d49bf2aadbd86dcea70": {
          "model_module": "@jupyter-widgets/base",
          "model_module_version": "1.2.0",
          "model_name": "LayoutModel",
          "state": {
            "_model_module": "@jupyter-widgets/base",
            "_model_module_version": "1.2.0",
            "_model_name": "LayoutModel",
            "_view_count": null,
            "_view_module": "@jupyter-widgets/base",
            "_view_module_version": "1.2.0",
            "_view_name": "LayoutView",
            "align_content": null,
            "align_items": null,
            "align_self": null,
            "border": null,
            "bottom": null,
            "display": null,
            "flex": null,
            "flex_flow": null,
            "grid_area": null,
            "grid_auto_columns": null,
            "grid_auto_flow": null,
            "grid_auto_rows": null,
            "grid_column": null,
            "grid_gap": null,
            "grid_row": null,
            "grid_template_areas": null,
            "grid_template_columns": null,
            "grid_template_rows": null,
            "height": null,
            "justify_content": null,
            "justify_items": null,
            "left": null,
            "margin": null,
            "max_height": null,
            "max_width": null,
            "min_height": null,
            "min_width": null,
            "object_fit": null,
            "object_position": null,
            "order": null,
            "overflow": null,
            "overflow_x": null,
            "overflow_y": null,
            "padding": null,
            "right": null,
            "top": null,
            "visibility": null,
            "width": null
          }
        },
        "18e3e743b3864ff2867121a95542becc": {
          "model_module": "@jupyter-widgets/controls",
          "model_module_version": "1.5.0",
          "model_name": "HTMLModel",
          "state": {
            "_dom_classes": [],
            "_model_module": "@jupyter-widgets/controls",
            "_model_module_version": "1.5.0",
            "_model_name": "HTMLModel",
            "_view_count": null,
            "_view_module": "@jupyter-widgets/controls",
            "_view_module_version": "1.5.0",
            "_view_name": "HTMLView",
            "description": "",
            "description_tooltip": null,
            "layout": "IPY_MODEL_e7541544b3aa440c835e8c93ca86d78e",
            "placeholder": "​",
            "style": "IPY_MODEL_f60881913132466bbc7988b1eeab4e4d",
            "value": " 3.11k/3.11k [00:00&lt;00:00, 143kB/s]"
          }
        },
        "195fc26fd73840be80d18349af278186": {
          "model_module": "@jupyter-widgets/controls",
          "model_module_version": "1.5.0",
          "model_name": "HBoxModel",
          "state": {
            "_dom_classes": [],
            "_model_module": "@jupyter-widgets/controls",
            "_model_module_version": "1.5.0",
            "_model_name": "HBoxModel",
            "_view_count": null,
            "_view_module": "@jupyter-widgets/controls",
            "_view_module_version": "1.5.0",
            "_view_name": "HBoxView",
            "box_style": "",
            "children": [
              "IPY_MODEL_1d121c53ff6247e092a234e21558934c",
              "IPY_MODEL_7cb24910386c4051b9576b3eb6eb377f",
              "IPY_MODEL_7a1f6e5ee1ea4ad0ad938b5b04ae7947"
            ],
            "layout": "IPY_MODEL_7f99a6e5129c4ae9bef0b0adba1491a5"
          }
        },
        "1d121c53ff6247e092a234e21558934c": {
          "model_module": "@jupyter-widgets/controls",
          "model_module_version": "1.5.0",
          "model_name": "HTMLModel",
          "state": {
            "_dom_classes": [],
            "_model_module": "@jupyter-widgets/controls",
            "_model_module_version": "1.5.0",
            "_model_name": "HTMLModel",
            "_view_count": null,
            "_view_module": "@jupyter-widgets/controls",
            "_view_module_version": "1.5.0",
            "_view_name": "HTMLView",
            "description": "",
            "description_tooltip": null,
            "layout": "IPY_MODEL_2dca8e90503e4881915a946c17176d24",
            "placeholder": "​",
            "style": "IPY_MODEL_06e03546f526472fbeb1968f0f7ebfb4",
            "value": "examples-00000-of-00001.parquet: 100%"
          }
        },
        "2cd0c5f49407406b8834afb2c790a969": {
          "model_module": "@jupyter-widgets/controls",
          "model_module_version": "1.5.0",
          "model_name": "DescriptionStyleModel",
          "state": {
            "_model_module": "@jupyter-widgets/controls",
            "_model_module_version": "1.5.0",
            "_model_name": "DescriptionStyleModel",
            "_view_count": null,
            "_view_module": "@jupyter-widgets/base",
            "_view_module_version": "1.2.0",
            "_view_name": "StyleView",
            "description_width": ""
          }
        },
        "2dca8e90503e4881915a946c17176d24": {
          "model_module": "@jupyter-widgets/base",
          "model_module_version": "1.2.0",
          "model_name": "LayoutModel",
          "state": {
            "_model_module": "@jupyter-widgets/base",
            "_model_module_version": "1.2.0",
            "_model_name": "LayoutModel",
            "_view_count": null,
            "_view_module": "@jupyter-widgets/base",
            "_view_module_version": "1.2.0",
            "_view_name": "LayoutView",
            "align_content": null,
            "align_items": null,
            "align_self": null,
            "border": null,
            "bottom": null,
            "display": null,
            "flex": null,
            "flex_flow": null,
            "grid_area": null,
            "grid_auto_columns": null,
            "grid_auto_flow": null,
            "grid_auto_rows": null,
            "grid_column": null,
            "grid_gap": null,
            "grid_row": null,
            "grid_template_areas": null,
            "grid_template_columns": null,
            "grid_template_rows": null,
            "height": null,
            "justify_content": null,
            "justify_items": null,
            "left": null,
            "margin": null,
            "max_height": null,
            "max_width": null,
            "min_height": null,
            "min_width": null,
            "object_fit": null,
            "object_position": null,
            "order": null,
            "overflow": null,
            "overflow_x": null,
            "overflow_y": null,
            "padding": null,
            "right": null,
            "top": null,
            "visibility": null,
            "width": null
          }
        },
        "2fe6d1b884d4480d8cf58d740e89e7be": {
          "model_module": "@jupyter-widgets/controls",
          "model_module_version": "1.5.0",
          "model_name": "HTMLModel",
          "state": {
            "_dom_classes": [],
            "_model_module": "@jupyter-widgets/controls",
            "_model_module_version": "1.5.0",
            "_model_name": "HTMLModel",
            "_view_count": null,
            "_view_module": "@jupyter-widgets/controls",
            "_view_module_version": "1.5.0",
            "_view_name": "HTMLView",
            "description": "",
            "description_tooltip": null,
            "layout": "IPY_MODEL_5927140e504b44eba13e571a25e8cf24",
            "placeholder": "​",
            "style": "IPY_MODEL_b5f2be8d584a48f784a2a5f249a204ce",
            "value": " 30/30 [00:00&lt;00:00, 439.07 examples/s]"
          }
        },
        "3349f28ea8e14ddf97ac8ed51ab9075b": {
          "model_module": "@jupyter-widgets/controls",
          "model_module_version": "1.5.0",
          "model_name": "HTMLModel",
          "state": {
            "_dom_classes": [],
            "_model_module": "@jupyter-widgets/controls",
            "_model_module_version": "1.5.0",
            "_model_name": "HTMLModel",
            "_view_count": null,
            "_view_module": "@jupyter-widgets/controls",
            "_view_module_version": "1.5.0",
            "_view_name": "HTMLView",
            "description": "",
            "description_tooltip": null,
            "layout": "IPY_MODEL_baae92ea867b405e99da91507ac38872",
            "placeholder": "​",
            "style": "IPY_MODEL_08d66f7fdde940fd8dea1c61009f1aa0",
            "value": "Generating gold_examples split: 100%"
          }
        },
        "39eba8b12acb44be9038aef06c432f08": {
          "model_module": "@jupyter-widgets/controls",
          "model_module_version": "1.5.0",
          "model_name": "HBoxModel",
          "state": {
            "_dom_classes": [],
            "_model_module": "@jupyter-widgets/controls",
            "_model_module_version": "1.5.0",
            "_model_name": "HBoxModel",
            "_view_count": null,
            "_view_module": "@jupyter-widgets/controls",
            "_view_module_version": "1.5.0",
            "_view_name": "HBoxView",
            "box_style": "",
            "children": [
              "IPY_MODEL_4315cebd770543719af7570328974fc6",
              "IPY_MODEL_c18f8d99cb5f4a64a7fb22f79fb80027",
              "IPY_MODEL_952a73b972cc42d09e250b34fe672dfc"
            ],
            "layout": "IPY_MODEL_90c42bdcbbf645d993576beabc5c0426"
          }
        },
        "4315cebd770543719af7570328974fc6": {
          "model_module": "@jupyter-widgets/controls",
          "model_module_version": "1.5.0",
          "model_name": "HTMLModel",
          "state": {
            "_dom_classes": [],
            "_model_module": "@jupyter-widgets/controls",
            "_model_module_version": "1.5.0",
            "_model_name": "HTMLModel",
            "_view_count": null,
            "_view_module": "@jupyter-widgets/controls",
            "_view_module_version": "1.5.0",
            "_view_name": "HTMLView",
            "description": "",
            "description_tooltip": null,
            "layout": "IPY_MODEL_bd50725343b646aabcdcb95a48fb8479",
            "placeholder": "​",
            "style": "IPY_MODEL_2cd0c5f49407406b8834afb2c790a969",
            "value": "gold_examples-00000-of-00001.parquet: 100%"
          }
        },
        "4705e4adc1ce4b14ae335a14e989697f": {
          "model_module": "@jupyter-widgets/controls",
          "model_module_version": "1.5.0",
          "model_name": "HTMLModel",
          "state": {
            "_dom_classes": [],
            "_model_module": "@jupyter-widgets/controls",
            "_model_module_version": "1.5.0",
            "_model_name": "HTMLModel",
            "_view_count": null,
            "_view_module": "@jupyter-widgets/controls",
            "_view_module_version": "1.5.0",
            "_view_name": "HTMLView",
            "description": "",
            "description_tooltip": null,
            "layout": "IPY_MODEL_0b120e7dce9a4d49bf2aadbd86dcea70",
            "placeholder": "​",
            "style": "IPY_MODEL_6047e1bbac354eb0a8160f2c966f9d4a",
            "value": " 30/30 [00:00&lt;00:00, 706.58 examples/s]"
          }
        },
        "4cf748d31e8b49db814ec981aba1e24a": {
          "model_module": "@jupyter-widgets/controls",
          "model_module_version": "1.5.0",
          "model_name": "DescriptionStyleModel",
          "state": {
            "_model_module": "@jupyter-widgets/controls",
            "_model_module_version": "1.5.0",
            "_model_name": "DescriptionStyleModel",
            "_view_count": null,
            "_view_module": "@jupyter-widgets/base",
            "_view_module_version": "1.2.0",
            "_view_name": "StyleView",
            "description_width": ""
          }
        },
        "4e28d20d3abd4e60bc2979bb1efb690f": {
          "model_module": "@jupyter-widgets/controls",
          "model_module_version": "1.5.0",
          "model_name": "ProgressStyleModel",
          "state": {
            "_model_module": "@jupyter-widgets/controls",
            "_model_module_version": "1.5.0",
            "_model_name": "ProgressStyleModel",
            "_view_count": null,
            "_view_module": "@jupyter-widgets/base",
            "_view_module_version": "1.2.0",
            "_view_name": "StyleView",
            "bar_color": null,
            "description_width": ""
          }
        },
        "504ea04485dd41a69c00adeb06328b6a": {
          "model_module": "@jupyter-widgets/base",
          "model_module_version": "1.2.0",
          "model_name": "LayoutModel",
          "state": {
            "_model_module": "@jupyter-widgets/base",
            "_model_module_version": "1.2.0",
            "_model_name": "LayoutModel",
            "_view_count": null,
            "_view_module": "@jupyter-widgets/base",
            "_view_module_version": "1.2.0",
            "_view_name": "LayoutView",
            "align_content": null,
            "align_items": null,
            "align_self": null,
            "border": null,
            "bottom": null,
            "display": null,
            "flex": null,
            "flex_flow": null,
            "grid_area": null,
            "grid_auto_columns": null,
            "grid_auto_flow": null,
            "grid_auto_rows": null,
            "grid_column": null,
            "grid_gap": null,
            "grid_row": null,
            "grid_template_areas": null,
            "grid_template_columns": null,
            "grid_template_rows": null,
            "height": null,
            "justify_content": null,
            "justify_items": null,
            "left": null,
            "margin": null,
            "max_height": null,
            "max_width": null,
            "min_height": null,
            "min_width": null,
            "object_fit": null,
            "object_position": null,
            "order": null,
            "overflow": null,
            "overflow_x": null,
            "overflow_y": null,
            "padding": null,
            "right": null,
            "top": null,
            "visibility": null,
            "width": null
          }
        },
        "5927140e504b44eba13e571a25e8cf24": {
          "model_module": "@jupyter-widgets/base",
          "model_module_version": "1.2.0",
          "model_name": "LayoutModel",
          "state": {
            "_model_module": "@jupyter-widgets/base",
            "_model_module_version": "1.2.0",
            "_model_name": "LayoutModel",
            "_view_count": null,
            "_view_module": "@jupyter-widgets/base",
            "_view_module_version": "1.2.0",
            "_view_name": "LayoutView",
            "align_content": null,
            "align_items": null,
            "align_self": null,
            "border": null,
            "bottom": null,
            "display": null,
            "flex": null,
            "flex_flow": null,
            "grid_area": null,
            "grid_auto_columns": null,
            "grid_auto_flow": null,
            "grid_auto_rows": null,
            "grid_column": null,
            "grid_gap": null,
            "grid_row": null,
            "grid_template_areas": null,
            "grid_template_columns": null,
            "grid_template_rows": null,
            "height": null,
            "justify_content": null,
            "justify_items": null,
            "left": null,
            "margin": null,
            "max_height": null,
            "max_width": null,
            "min_height": null,
            "min_width": null,
            "object_fit": null,
            "object_position": null,
            "order": null,
            "overflow": null,
            "overflow_x": null,
            "overflow_y": null,
            "padding": null,
            "right": null,
            "top": null,
            "visibility": null,
            "width": null
          }
        },
        "5b09dc43795448aabb738873d71d0074": {
          "model_module": "@jupyter-widgets/base",
          "model_module_version": "1.2.0",
          "model_name": "LayoutModel",
          "state": {
            "_model_module": "@jupyter-widgets/base",
            "_model_module_version": "1.2.0",
            "_model_name": "LayoutModel",
            "_view_count": null,
            "_view_module": "@jupyter-widgets/base",
            "_view_module_version": "1.2.0",
            "_view_name": "LayoutView",
            "align_content": null,
            "align_items": null,
            "align_self": null,
            "border": null,
            "bottom": null,
            "display": null,
            "flex": null,
            "flex_flow": null,
            "grid_area": null,
            "grid_auto_columns": null,
            "grid_auto_flow": null,
            "grid_auto_rows": null,
            "grid_column": null,
            "grid_gap": null,
            "grid_row": null,
            "grid_template_areas": null,
            "grid_template_columns": null,
            "grid_template_rows": null,
            "height": null,
            "justify_content": null,
            "justify_items": null,
            "left": null,
            "margin": null,
            "max_height": null,
            "max_width": null,
            "min_height": null,
            "min_width": null,
            "object_fit": null,
            "object_position": null,
            "order": null,
            "overflow": null,
            "overflow_x": null,
            "overflow_y": null,
            "padding": null,
            "right": null,
            "top": null,
            "visibility": null,
            "width": null
          }
        },
        "6047e1bbac354eb0a8160f2c966f9d4a": {
          "model_module": "@jupyter-widgets/controls",
          "model_module_version": "1.5.0",
          "model_name": "DescriptionStyleModel",
          "state": {
            "_model_module": "@jupyter-widgets/controls",
            "_model_module_version": "1.5.0",
            "_model_name": "DescriptionStyleModel",
            "_view_count": null,
            "_view_module": "@jupyter-widgets/base",
            "_view_module_version": "1.2.0",
            "_view_name": "StyleView",
            "description_width": ""
          }
        },
        "73c49267519a4aa2bf3aa3c11d33e2d1": {
          "model_module": "@jupyter-widgets/controls",
          "model_module_version": "1.5.0",
          "model_name": "FloatProgressModel",
          "state": {
            "_dom_classes": [],
            "_model_module": "@jupyter-widgets/controls",
            "_model_module_version": "1.5.0",
            "_model_name": "FloatProgressModel",
            "_view_count": null,
            "_view_module": "@jupyter-widgets/controls",
            "_view_module_version": "1.5.0",
            "_view_name": "ProgressView",
            "bar_style": "success",
            "description": "",
            "description_tooltip": null,
            "layout": "IPY_MODEL_504ea04485dd41a69c00adeb06328b6a",
            "max": 30,
            "min": 0,
            "orientation": "horizontal",
            "style": "IPY_MODEL_793b0ecaabaa4fa1add5e9d1182f84e6",
            "value": 30
          }
        },
        "793b0ecaabaa4fa1add5e9d1182f84e6": {
          "model_module": "@jupyter-widgets/controls",
          "model_module_version": "1.5.0",
          "model_name": "ProgressStyleModel",
          "state": {
            "_model_module": "@jupyter-widgets/controls",
            "_model_module_version": "1.5.0",
            "_model_name": "ProgressStyleModel",
            "_view_count": null,
            "_view_module": "@jupyter-widgets/base",
            "_view_module_version": "1.2.0",
            "_view_name": "StyleView",
            "bar_color": null,
            "description_width": ""
          }
        },
        "7a1f6e5ee1ea4ad0ad938b5b04ae7947": {
          "model_module": "@jupyter-widgets/controls",
          "model_module_version": "1.5.0",
          "model_name": "HTMLModel",
          "state": {
            "_dom_classes": [],
            "_model_module": "@jupyter-widgets/controls",
            "_model_module_version": "1.5.0",
            "_model_name": "HTMLModel",
            "_view_count": null,
            "_view_module": "@jupyter-widgets/controls",
            "_view_module_version": "1.5.0",
            "_view_name": "HTMLView",
            "description": "",
            "description_tooltip": null,
            "layout": "IPY_MODEL_b3d9d940367e41ecaecf4b08a25e125c",
            "placeholder": "​",
            "style": "IPY_MODEL_4cf748d31e8b49db814ec981aba1e24a",
            "value": " 3.12k/3.12k [00:00&lt;00:00, 160kB/s]"
          }
        },
        "7cb24910386c4051b9576b3eb6eb377f": {
          "model_module": "@jupyter-widgets/controls",
          "model_module_version": "1.5.0",
          "model_name": "FloatProgressModel",
          "state": {
            "_dom_classes": [],
            "_model_module": "@jupyter-widgets/controls",
            "_model_module_version": "1.5.0",
            "_model_name": "FloatProgressModel",
            "_view_count": null,
            "_view_module": "@jupyter-widgets/controls",
            "_view_module_version": "1.5.0",
            "_view_name": "ProgressView",
            "bar_style": "success",
            "description": "",
            "description_tooltip": null,
            "layout": "IPY_MODEL_d4126a071db5494c9ef53ef4a35afe59",
            "max": 3116,
            "min": 0,
            "orientation": "horizontal",
            "style": "IPY_MODEL_b1e1df04cd1244b38d30975a886f37f9",
            "value": 3116
          }
        },
        "7f99a6e5129c4ae9bef0b0adba1491a5": {
          "model_module": "@jupyter-widgets/base",
          "model_module_version": "1.2.0",
          "model_name": "LayoutModel",
          "state": {
            "_model_module": "@jupyter-widgets/base",
            "_model_module_version": "1.2.0",
            "_model_name": "LayoutModel",
            "_view_count": null,
            "_view_module": "@jupyter-widgets/base",
            "_view_module_version": "1.2.0",
            "_view_name": "LayoutView",
            "align_content": null,
            "align_items": null,
            "align_self": null,
            "border": null,
            "bottom": null,
            "display": null,
            "flex": null,
            "flex_flow": null,
            "grid_area": null,
            "grid_auto_columns": null,
            "grid_auto_flow": null,
            "grid_auto_rows": null,
            "grid_column": null,
            "grid_gap": null,
            "grid_row": null,
            "grid_template_areas": null,
            "grid_template_columns": null,
            "grid_template_rows": null,
            "height": null,
            "justify_content": null,
            "justify_items": null,
            "left": null,
            "margin": null,
            "max_height": null,
            "max_width": null,
            "min_height": null,
            "min_width": null,
            "object_fit": null,
            "object_position": null,
            "order": null,
            "overflow": null,
            "overflow_x": null,
            "overflow_y": null,
            "padding": null,
            "right": null,
            "top": null,
            "visibility": null,
            "width": null
          }
        },
        "90c42bdcbbf645d993576beabc5c0426": {
          "model_module": "@jupyter-widgets/base",
          "model_module_version": "1.2.0",
          "model_name": "LayoutModel",
          "state": {
            "_model_module": "@jupyter-widgets/base",
            "_model_module_version": "1.2.0",
            "_model_name": "LayoutModel",
            "_view_count": null,
            "_view_module": "@jupyter-widgets/base",
            "_view_module_version": "1.2.0",
            "_view_name": "LayoutView",
            "align_content": null,
            "align_items": null,
            "align_self": null,
            "border": null,
            "bottom": null,
            "display": null,
            "flex": null,
            "flex_flow": null,
            "grid_area": null,
            "grid_auto_columns": null,
            "grid_auto_flow": null,
            "grid_auto_rows": null,
            "grid_column": null,
            "grid_gap": null,
            "grid_row": null,
            "grid_template_areas": null,
            "grid_template_columns": null,
            "grid_template_rows": null,
            "height": null,
            "justify_content": null,
            "justify_items": null,
            "left": null,
            "margin": null,
            "max_height": null,
            "max_width": null,
            "min_height": null,
            "min_width": null,
            "object_fit": null,
            "object_position": null,
            "order": null,
            "overflow": null,
            "overflow_x": null,
            "overflow_y": null,
            "padding": null,
            "right": null,
            "top": null,
            "visibility": null,
            "width": null
          }
        },
        "90ec6c1a3d7c4061b510f92368cc5ff1": {
          "model_module": "@jupyter-widgets/controls",
          "model_module_version": "1.5.0",
          "model_name": "ProgressStyleModel",
          "state": {
            "_model_module": "@jupyter-widgets/controls",
            "_model_module_version": "1.5.0",
            "_model_name": "ProgressStyleModel",
            "_view_count": null,
            "_view_module": "@jupyter-widgets/base",
            "_view_module_version": "1.2.0",
            "_view_name": "StyleView",
            "bar_color": null,
            "description_width": ""
          }
        },
        "933ca37e0c4e4e5ebde692f83d831ec1": {
          "model_module": "@jupyter-widgets/controls",
          "model_module_version": "1.5.0",
          "model_name": "HBoxModel",
          "state": {
            "_dom_classes": [],
            "_model_module": "@jupyter-widgets/controls",
            "_model_module_version": "1.5.0",
            "_model_name": "HBoxModel",
            "_view_count": null,
            "_view_module": "@jupyter-widgets/controls",
            "_view_module_version": "1.5.0",
            "_view_name": "HBoxView",
            "box_style": "",
            "children": [
              "IPY_MODEL_cbd2347cea1e464aa967f18582d23c97",
              "IPY_MODEL_73c49267519a4aa2bf3aa3c11d33e2d1",
              "IPY_MODEL_2fe6d1b884d4480d8cf58d740e89e7be"
            ],
            "layout": "IPY_MODEL_0507f7238210431b8c76c82c9bc2f1cf"
          }
        },
        "952a73b972cc42d09e250b34fe672dfc": {
          "model_module": "@jupyter-widgets/controls",
          "model_module_version": "1.5.0",
          "model_name": "HTMLModel",
          "state": {
            "_dom_classes": [],
            "_model_module": "@jupyter-widgets/controls",
            "_model_module_version": "1.5.0",
            "_model_name": "HTMLModel",
            "_view_count": null,
            "_view_module": "@jupyter-widgets/controls",
            "_view_module_version": "1.5.0",
            "_view_name": "HTMLView",
            "description": "",
            "description_tooltip": null,
            "layout": "IPY_MODEL_f85013fc12f24288b857b4822103962f",
            "placeholder": "​",
            "style": "IPY_MODEL_f8cf54a3d1984fa0baf78defc0f90c5d",
            "value": " 2.76k/2.76k [00:00&lt;00:00, 189kB/s]"
          }
        },
        "9ec7b1c838664c099d9220b4a222401c": {
          "model_module": "@jupyter-widgets/controls",
          "model_module_version": "1.5.0",
          "model_name": "HBoxModel",
          "state": {
            "_dom_classes": [],
            "_model_module": "@jupyter-widgets/controls",
            "_model_module_version": "1.5.0",
            "_model_name": "HBoxModel",
            "_view_count": null,
            "_view_module": "@jupyter-widgets/controls",
            "_view_module_version": "1.5.0",
            "_view_name": "HBoxView",
            "box_style": "",
            "children": [
              "IPY_MODEL_bde089c1a9b94dba91ea36041891d8ae",
              "IPY_MODEL_ddb4321b1ef848f5b0476a7ab5e2eb29",
              "IPY_MODEL_18e3e743b3864ff2867121a95542becc"
            ],
            "layout": "IPY_MODEL_e8c93392b000493381572e73ab11a618"
          }
        },
        "a0d6c6128a3d4f02a895362dc9584f5d": {
          "model_module": "@jupyter-widgets/base",
          "model_module_version": "1.2.0",
          "model_name": "LayoutModel",
          "state": {
            "_model_module": "@jupyter-widgets/base",
            "_model_module_version": "1.2.0",
            "_model_name": "LayoutModel",
            "_view_count": null,
            "_view_module": "@jupyter-widgets/base",
            "_view_module_version": "1.2.0",
            "_view_name": "LayoutView",
            "align_content": null,
            "align_items": null,
            "align_self": null,
            "border": null,
            "bottom": null,
            "display": null,
            "flex": null,
            "flex_flow": null,
            "grid_area": null,
            "grid_auto_columns": null,
            "grid_auto_flow": null,
            "grid_auto_rows": null,
            "grid_column": null,
            "grid_gap": null,
            "grid_row": null,
            "grid_template_areas": null,
            "grid_template_columns": null,
            "grid_template_rows": null,
            "height": null,
            "justify_content": null,
            "justify_items": null,
            "left": null,
            "margin": null,
            "max_height": null,
            "max_width": null,
            "min_height": null,
            "min_width": null,
            "object_fit": null,
            "object_position": null,
            "order": null,
            "overflow": null,
            "overflow_x": null,
            "overflow_y": null,
            "padding": null,
            "right": null,
            "top": null,
            "visibility": null,
            "width": null
          }
        },
        "aa604506b01f467baeed980fde205cd3": {
          "model_module": "@jupyter-widgets/base",
          "model_module_version": "1.2.0",
          "model_name": "LayoutModel",
          "state": {
            "_model_module": "@jupyter-widgets/base",
            "_model_module_version": "1.2.0",
            "_model_name": "LayoutModel",
            "_view_count": null,
            "_view_module": "@jupyter-widgets/base",
            "_view_module_version": "1.2.0",
            "_view_name": "LayoutView",
            "align_content": null,
            "align_items": null,
            "align_self": null,
            "border": null,
            "bottom": null,
            "display": null,
            "flex": null,
            "flex_flow": null,
            "grid_area": null,
            "grid_auto_columns": null,
            "grid_auto_flow": null,
            "grid_auto_rows": null,
            "grid_column": null,
            "grid_gap": null,
            "grid_row": null,
            "grid_template_areas": null,
            "grid_template_columns": null,
            "grid_template_rows": null,
            "height": null,
            "justify_content": null,
            "justify_items": null,
            "left": null,
            "margin": null,
            "max_height": null,
            "max_width": null,
            "min_height": null,
            "min_width": null,
            "object_fit": null,
            "object_position": null,
            "order": null,
            "overflow": null,
            "overflow_x": null,
            "overflow_y": null,
            "padding": null,
            "right": null,
            "top": null,
            "visibility": null,
            "width": null
          }
        },
        "b1e1df04cd1244b38d30975a886f37f9": {
          "model_module": "@jupyter-widgets/controls",
          "model_module_version": "1.5.0",
          "model_name": "ProgressStyleModel",
          "state": {
            "_model_module": "@jupyter-widgets/controls",
            "_model_module_version": "1.5.0",
            "_model_name": "ProgressStyleModel",
            "_view_count": null,
            "_view_module": "@jupyter-widgets/base",
            "_view_module_version": "1.2.0",
            "_view_name": "StyleView",
            "bar_color": null,
            "description_width": ""
          }
        },
        "b3d9d940367e41ecaecf4b08a25e125c": {
          "model_module": "@jupyter-widgets/base",
          "model_module_version": "1.2.0",
          "model_name": "LayoutModel",
          "state": {
            "_model_module": "@jupyter-widgets/base",
            "_model_module_version": "1.2.0",
            "_model_name": "LayoutModel",
            "_view_count": null,
            "_view_module": "@jupyter-widgets/base",
            "_view_module_version": "1.2.0",
            "_view_name": "LayoutView",
            "align_content": null,
            "align_items": null,
            "align_self": null,
            "border": null,
            "bottom": null,
            "display": null,
            "flex": null,
            "flex_flow": null,
            "grid_area": null,
            "grid_auto_columns": null,
            "grid_auto_flow": null,
            "grid_auto_rows": null,
            "grid_column": null,
            "grid_gap": null,
            "grid_row": null,
            "grid_template_areas": null,
            "grid_template_columns": null,
            "grid_template_rows": null,
            "height": null,
            "justify_content": null,
            "justify_items": null,
            "left": null,
            "margin": null,
            "max_height": null,
            "max_width": null,
            "min_height": null,
            "min_width": null,
            "object_fit": null,
            "object_position": null,
            "order": null,
            "overflow": null,
            "overflow_x": null,
            "overflow_y": null,
            "padding": null,
            "right": null,
            "top": null,
            "visibility": null,
            "width": null
          }
        },
        "b5f2be8d584a48f784a2a5f249a204ce": {
          "model_module": "@jupyter-widgets/controls",
          "model_module_version": "1.5.0",
          "model_name": "DescriptionStyleModel",
          "state": {
            "_model_module": "@jupyter-widgets/controls",
            "_model_module_version": "1.5.0",
            "_model_name": "DescriptionStyleModel",
            "_view_count": null,
            "_view_module": "@jupyter-widgets/base",
            "_view_module_version": "1.2.0",
            "_view_name": "StyleView",
            "description_width": ""
          }
        },
        "baae92ea867b405e99da91507ac38872": {
          "model_module": "@jupyter-widgets/base",
          "model_module_version": "1.2.0",
          "model_name": "LayoutModel",
          "state": {
            "_model_module": "@jupyter-widgets/base",
            "_model_module_version": "1.2.0",
            "_model_name": "LayoutModel",
            "_view_count": null,
            "_view_module": "@jupyter-widgets/base",
            "_view_module_version": "1.2.0",
            "_view_name": "LayoutView",
            "align_content": null,
            "align_items": null,
            "align_self": null,
            "border": null,
            "bottom": null,
            "display": null,
            "flex": null,
            "flex_flow": null,
            "grid_area": null,
            "grid_auto_columns": null,
            "grid_auto_flow": null,
            "grid_auto_rows": null,
            "grid_column": null,
            "grid_gap": null,
            "grid_row": null,
            "grid_template_areas": null,
            "grid_template_columns": null,
            "grid_template_rows": null,
            "height": null,
            "justify_content": null,
            "justify_items": null,
            "left": null,
            "margin": null,
            "max_height": null,
            "max_width": null,
            "min_height": null,
            "min_width": null,
            "object_fit": null,
            "object_position": null,
            "order": null,
            "overflow": null,
            "overflow_x": null,
            "overflow_y": null,
            "padding": null,
            "right": null,
            "top": null,
            "visibility": null,
            "width": null
          }
        },
        "bd50725343b646aabcdcb95a48fb8479": {
          "model_module": "@jupyter-widgets/base",
          "model_module_version": "1.2.0",
          "model_name": "LayoutModel",
          "state": {
            "_model_module": "@jupyter-widgets/base",
            "_model_module_version": "1.2.0",
            "_model_name": "LayoutModel",
            "_view_count": null,
            "_view_module": "@jupyter-widgets/base",
            "_view_module_version": "1.2.0",
            "_view_name": "LayoutView",
            "align_content": null,
            "align_items": null,
            "align_self": null,
            "border": null,
            "bottom": null,
            "display": null,
            "flex": null,
            "flex_flow": null,
            "grid_area": null,
            "grid_auto_columns": null,
            "grid_auto_flow": null,
            "grid_auto_rows": null,
            "grid_column": null,
            "grid_gap": null,
            "grid_row": null,
            "grid_template_areas": null,
            "grid_template_columns": null,
            "grid_template_rows": null,
            "height": null,
            "justify_content": null,
            "justify_items": null,
            "left": null,
            "margin": null,
            "max_height": null,
            "max_width": null,
            "min_height": null,
            "min_width": null,
            "object_fit": null,
            "object_position": null,
            "order": null,
            "overflow": null,
            "overflow_x": null,
            "overflow_y": null,
            "padding": null,
            "right": null,
            "top": null,
            "visibility": null,
            "width": null
          }
        },
        "bde089c1a9b94dba91ea36041891d8ae": {
          "model_module": "@jupyter-widgets/controls",
          "model_module_version": "1.5.0",
          "model_name": "HTMLModel",
          "state": {
            "_dom_classes": [],
            "_model_module": "@jupyter-widgets/controls",
            "_model_module_version": "1.5.0",
            "_model_name": "HTMLModel",
            "_view_count": null,
            "_view_module": "@jupyter-widgets/controls",
            "_view_module_version": "1.5.0",
            "_view_name": "HTMLView",
            "description": "",
            "description_tooltip": null,
            "layout": "IPY_MODEL_d7f42ca278234fd2953d131cf3cc0707",
            "placeholder": "​",
            "style": "IPY_MODEL_d68248b119d34f839ad12577ca206400",
            "value": "README.md: 100%"
          }
        },
        "bfaa545c468142b18eec2f7ecde4b9fb": {
          "model_module": "@jupyter-widgets/controls",
          "model_module_version": "1.5.0",
          "model_name": "FloatProgressModel",
          "state": {
            "_dom_classes": [],
            "_model_module": "@jupyter-widgets/controls",
            "_model_module_version": "1.5.0",
            "_model_name": "FloatProgressModel",
            "_view_count": null,
            "_view_module": "@jupyter-widgets/controls",
            "_view_module_version": "1.5.0",
            "_view_name": "ProgressView",
            "bar_style": "success",
            "description": "",
            "description_tooltip": null,
            "layout": "IPY_MODEL_5b09dc43795448aabb738873d71d0074",
            "max": 30,
            "min": 0,
            "orientation": "horizontal",
            "style": "IPY_MODEL_90ec6c1a3d7c4061b510f92368cc5ff1",
            "value": 30
          }
        },
        "c18f8d99cb5f4a64a7fb22f79fb80027": {
          "model_module": "@jupyter-widgets/controls",
          "model_module_version": "1.5.0",
          "model_name": "FloatProgressModel",
          "state": {
            "_dom_classes": [],
            "_model_module": "@jupyter-widgets/controls",
            "_model_module_version": "1.5.0",
            "_model_name": "FloatProgressModel",
            "_view_count": null,
            "_view_module": "@jupyter-widgets/controls",
            "_view_module_version": "1.5.0",
            "_view_name": "ProgressView",
            "bar_style": "success",
            "description": "",
            "description_tooltip": null,
            "layout": "IPY_MODEL_d2bba6fa98864853a8ecce352070a47f",
            "max": 2759,
            "min": 0,
            "orientation": "horizontal",
            "style": "IPY_MODEL_4e28d20d3abd4e60bc2979bb1efb690f",
            "value": 2759
          }
        },
        "c7f8f8c29c5948c786cce64aa0964e1b": {
          "model_module": "@jupyter-widgets/controls",
          "model_module_version": "1.5.0",
          "model_name": "HBoxModel",
          "state": {
            "_dom_classes": [],
            "_model_module": "@jupyter-widgets/controls",
            "_model_module_version": "1.5.0",
            "_model_name": "HBoxModel",
            "_view_count": null,
            "_view_module": "@jupyter-widgets/controls",
            "_view_module_version": "1.5.0",
            "_view_name": "HBoxView",
            "box_style": "",
            "children": [
              "IPY_MODEL_3349f28ea8e14ddf97ac8ed51ab9075b",
              "IPY_MODEL_bfaa545c468142b18eec2f7ecde4b9fb",
              "IPY_MODEL_4705e4adc1ce4b14ae335a14e989697f"
            ],
            "layout": "IPY_MODEL_d150220b2891411d9cf8bc5e96ed8a9e"
          }
        },
        "c9272b76b96748d4bb9a411a33e4032f": {
          "model_module": "@jupyter-widgets/controls",
          "model_module_version": "1.5.0",
          "model_name": "ProgressStyleModel",
          "state": {
            "_model_module": "@jupyter-widgets/controls",
            "_model_module_version": "1.5.0",
            "_model_name": "ProgressStyleModel",
            "_view_count": null,
            "_view_module": "@jupyter-widgets/base",
            "_view_module_version": "1.2.0",
            "_view_name": "StyleView",
            "bar_color": null,
            "description_width": ""
          }
        },
        "cbd2347cea1e464aa967f18582d23c97": {
          "model_module": "@jupyter-widgets/controls",
          "model_module_version": "1.5.0",
          "model_name": "HTMLModel",
          "state": {
            "_dom_classes": [],
            "_model_module": "@jupyter-widgets/controls",
            "_model_module_version": "1.5.0",
            "_model_name": "HTMLModel",
            "_view_count": null,
            "_view_module": "@jupyter-widgets/controls",
            "_view_module_version": "1.5.0",
            "_view_name": "HTMLView",
            "description": "",
            "description_tooltip": null,
            "layout": "IPY_MODEL_a0d6c6128a3d4f02a895362dc9584f5d",
            "placeholder": "​",
            "style": "IPY_MODEL_f35b582f90684bcbbc794d060f1bd9ee",
            "value": "Generating examples split: 100%"
          }
        },
        "d150220b2891411d9cf8bc5e96ed8a9e": {
          "model_module": "@jupyter-widgets/base",
          "model_module_version": "1.2.0",
          "model_name": "LayoutModel",
          "state": {
            "_model_module": "@jupyter-widgets/base",
            "_model_module_version": "1.2.0",
            "_model_name": "LayoutModel",
            "_view_count": null,
            "_view_module": "@jupyter-widgets/base",
            "_view_module_version": "1.2.0",
            "_view_name": "LayoutView",
            "align_content": null,
            "align_items": null,
            "align_self": null,
            "border": null,
            "bottom": null,
            "display": null,
            "flex": null,
            "flex_flow": null,
            "grid_area": null,
            "grid_auto_columns": null,
            "grid_auto_flow": null,
            "grid_auto_rows": null,
            "grid_column": null,
            "grid_gap": null,
            "grid_row": null,
            "grid_template_areas": null,
            "grid_template_columns": null,
            "grid_template_rows": null,
            "height": null,
            "justify_content": null,
            "justify_items": null,
            "left": null,
            "margin": null,
            "max_height": null,
            "max_width": null,
            "min_height": null,
            "min_width": null,
            "object_fit": null,
            "object_position": null,
            "order": null,
            "overflow": null,
            "overflow_x": null,
            "overflow_y": null,
            "padding": null,
            "right": null,
            "top": null,
            "visibility": null,
            "width": null
          }
        },
        "d2bba6fa98864853a8ecce352070a47f": {
          "model_module": "@jupyter-widgets/base",
          "model_module_version": "1.2.0",
          "model_name": "LayoutModel",
          "state": {
            "_model_module": "@jupyter-widgets/base",
            "_model_module_version": "1.2.0",
            "_model_name": "LayoutModel",
            "_view_count": null,
            "_view_module": "@jupyter-widgets/base",
            "_view_module_version": "1.2.0",
            "_view_name": "LayoutView",
            "align_content": null,
            "align_items": null,
            "align_self": null,
            "border": null,
            "bottom": null,
            "display": null,
            "flex": null,
            "flex_flow": null,
            "grid_area": null,
            "grid_auto_columns": null,
            "grid_auto_flow": null,
            "grid_auto_rows": null,
            "grid_column": null,
            "grid_gap": null,
            "grid_row": null,
            "grid_template_areas": null,
            "grid_template_columns": null,
            "grid_template_rows": null,
            "height": null,
            "justify_content": null,
            "justify_items": null,
            "left": null,
            "margin": null,
            "max_height": null,
            "max_width": null,
            "min_height": null,
            "min_width": null,
            "object_fit": null,
            "object_position": null,
            "order": null,
            "overflow": null,
            "overflow_x": null,
            "overflow_y": null,
            "padding": null,
            "right": null,
            "top": null,
            "visibility": null,
            "width": null
          }
        },
        "d4126a071db5494c9ef53ef4a35afe59": {
          "model_module": "@jupyter-widgets/base",
          "model_module_version": "1.2.0",
          "model_name": "LayoutModel",
          "state": {
            "_model_module": "@jupyter-widgets/base",
            "_model_module_version": "1.2.0",
            "_model_name": "LayoutModel",
            "_view_count": null,
            "_view_module": "@jupyter-widgets/base",
            "_view_module_version": "1.2.0",
            "_view_name": "LayoutView",
            "align_content": null,
            "align_items": null,
            "align_self": null,
            "border": null,
            "bottom": null,
            "display": null,
            "flex": null,
            "flex_flow": null,
            "grid_area": null,
            "grid_auto_columns": null,
            "grid_auto_flow": null,
            "grid_auto_rows": null,
            "grid_column": null,
            "grid_gap": null,
            "grid_row": null,
            "grid_template_areas": null,
            "grid_template_columns": null,
            "grid_template_rows": null,
            "height": null,
            "justify_content": null,
            "justify_items": null,
            "left": null,
            "margin": null,
            "max_height": null,
            "max_width": null,
            "min_height": null,
            "min_width": null,
            "object_fit": null,
            "object_position": null,
            "order": null,
            "overflow": null,
            "overflow_x": null,
            "overflow_y": null,
            "padding": null,
            "right": null,
            "top": null,
            "visibility": null,
            "width": null
          }
        },
        "d68248b119d34f839ad12577ca206400": {
          "model_module": "@jupyter-widgets/controls",
          "model_module_version": "1.5.0",
          "model_name": "DescriptionStyleModel",
          "state": {
            "_model_module": "@jupyter-widgets/controls",
            "_model_module_version": "1.5.0",
            "_model_name": "DescriptionStyleModel",
            "_view_count": null,
            "_view_module": "@jupyter-widgets/base",
            "_view_module_version": "1.2.0",
            "_view_name": "StyleView",
            "description_width": ""
          }
        },
        "d7f42ca278234fd2953d131cf3cc0707": {
          "model_module": "@jupyter-widgets/base",
          "model_module_version": "1.2.0",
          "model_name": "LayoutModel",
          "state": {
            "_model_module": "@jupyter-widgets/base",
            "_model_module_version": "1.2.0",
            "_model_name": "LayoutModel",
            "_view_count": null,
            "_view_module": "@jupyter-widgets/base",
            "_view_module_version": "1.2.0",
            "_view_name": "LayoutView",
            "align_content": null,
            "align_items": null,
            "align_self": null,
            "border": null,
            "bottom": null,
            "display": null,
            "flex": null,
            "flex_flow": null,
            "grid_area": null,
            "grid_auto_columns": null,
            "grid_auto_flow": null,
            "grid_auto_rows": null,
            "grid_column": null,
            "grid_gap": null,
            "grid_row": null,
            "grid_template_areas": null,
            "grid_template_columns": null,
            "grid_template_rows": null,
            "height": null,
            "justify_content": null,
            "justify_items": null,
            "left": null,
            "margin": null,
            "max_height": null,
            "max_width": null,
            "min_height": null,
            "min_width": null,
            "object_fit": null,
            "object_position": null,
            "order": null,
            "overflow": null,
            "overflow_x": null,
            "overflow_y": null,
            "padding": null,
            "right": null,
            "top": null,
            "visibility": null,
            "width": null
          }
        },
        "ddb4321b1ef848f5b0476a7ab5e2eb29": {
          "model_module": "@jupyter-widgets/controls",
          "model_module_version": "1.5.0",
          "model_name": "FloatProgressModel",
          "state": {
            "_dom_classes": [],
            "_model_module": "@jupyter-widgets/controls",
            "_model_module_version": "1.5.0",
            "_model_name": "FloatProgressModel",
            "_view_count": null,
            "_view_module": "@jupyter-widgets/controls",
            "_view_module_version": "1.5.0",
            "_view_name": "ProgressView",
            "bar_style": "success",
            "description": "",
            "description_tooltip": null,
            "layout": "IPY_MODEL_aa604506b01f467baeed980fde205cd3",
            "max": 3111,
            "min": 0,
            "orientation": "horizontal",
            "style": "IPY_MODEL_c9272b76b96748d4bb9a411a33e4032f",
            "value": 3111
          }
        },
        "e7541544b3aa440c835e8c93ca86d78e": {
          "model_module": "@jupyter-widgets/base",
          "model_module_version": "1.2.0",
          "model_name": "LayoutModel",
          "state": {
            "_model_module": "@jupyter-widgets/base",
            "_model_module_version": "1.2.0",
            "_model_name": "LayoutModel",
            "_view_count": null,
            "_view_module": "@jupyter-widgets/base",
            "_view_module_version": "1.2.0",
            "_view_name": "LayoutView",
            "align_content": null,
            "align_items": null,
            "align_self": null,
            "border": null,
            "bottom": null,
            "display": null,
            "flex": null,
            "flex_flow": null,
            "grid_area": null,
            "grid_auto_columns": null,
            "grid_auto_flow": null,
            "grid_auto_rows": null,
            "grid_column": null,
            "grid_gap": null,
            "grid_row": null,
            "grid_template_areas": null,
            "grid_template_columns": null,
            "grid_template_rows": null,
            "height": null,
            "justify_content": null,
            "justify_items": null,
            "left": null,
            "margin": null,
            "max_height": null,
            "max_width": null,
            "min_height": null,
            "min_width": null,
            "object_fit": null,
            "object_position": null,
            "order": null,
            "overflow": null,
            "overflow_x": null,
            "overflow_y": null,
            "padding": null,
            "right": null,
            "top": null,
            "visibility": null,
            "width": null
          }
        },
        "e8c93392b000493381572e73ab11a618": {
          "model_module": "@jupyter-widgets/base",
          "model_module_version": "1.2.0",
          "model_name": "LayoutModel",
          "state": {
            "_model_module": "@jupyter-widgets/base",
            "_model_module_version": "1.2.0",
            "_model_name": "LayoutModel",
            "_view_count": null,
            "_view_module": "@jupyter-widgets/base",
            "_view_module_version": "1.2.0",
            "_view_name": "LayoutView",
            "align_content": null,
            "align_items": null,
            "align_self": null,
            "border": null,
            "bottom": null,
            "display": null,
            "flex": null,
            "flex_flow": null,
            "grid_area": null,
            "grid_auto_columns": null,
            "grid_auto_flow": null,
            "grid_auto_rows": null,
            "grid_column": null,
            "grid_gap": null,
            "grid_row": null,
            "grid_template_areas": null,
            "grid_template_columns": null,
            "grid_template_rows": null,
            "height": null,
            "justify_content": null,
            "justify_items": null,
            "left": null,
            "margin": null,
            "max_height": null,
            "max_width": null,
            "min_height": null,
            "min_width": null,
            "object_fit": null,
            "object_position": null,
            "order": null,
            "overflow": null,
            "overflow_x": null,
            "overflow_y": null,
            "padding": null,
            "right": null,
            "top": null,
            "visibility": null,
            "width": null
          }
        },
        "f35b582f90684bcbbc794d060f1bd9ee": {
          "model_module": "@jupyter-widgets/controls",
          "model_module_version": "1.5.0",
          "model_name": "DescriptionStyleModel",
          "state": {
            "_model_module": "@jupyter-widgets/controls",
            "_model_module_version": "1.5.0",
            "_model_name": "DescriptionStyleModel",
            "_view_count": null,
            "_view_module": "@jupyter-widgets/base",
            "_view_module_version": "1.2.0",
            "_view_name": "StyleView",
            "description_width": ""
          }
        },
        "f60881913132466bbc7988b1eeab4e4d": {
          "model_module": "@jupyter-widgets/controls",
          "model_module_version": "1.5.0",
          "model_name": "DescriptionStyleModel",
          "state": {
            "_model_module": "@jupyter-widgets/controls",
            "_model_module_version": "1.5.0",
            "_model_name": "DescriptionStyleModel",
            "_view_count": null,
            "_view_module": "@jupyter-widgets/base",
            "_view_module_version": "1.2.0",
            "_view_name": "StyleView",
            "description_width": ""
          }
        },
        "f85013fc12f24288b857b4822103962f": {
          "model_module": "@jupyter-widgets/base",
          "model_module_version": "1.2.0",
          "model_name": "LayoutModel",
          "state": {
            "_model_module": "@jupyter-widgets/base",
            "_model_module_version": "1.2.0",
            "_model_name": "LayoutModel",
            "_view_count": null,
            "_view_module": "@jupyter-widgets/base",
            "_view_module_version": "1.2.0",
            "_view_name": "LayoutView",
            "align_content": null,
            "align_items": null,
            "align_self": null,
            "border": null,
            "bottom": null,
            "display": null,
            "flex": null,
            "flex_flow": null,
            "grid_area": null,
            "grid_auto_columns": null,
            "grid_auto_flow": null,
            "grid_auto_rows": null,
            "grid_column": null,
            "grid_gap": null,
            "grid_row": null,
            "grid_template_areas": null,
            "grid_template_columns": null,
            "grid_template_rows": null,
            "height": null,
            "justify_content": null,
            "justify_items": null,
            "left": null,
            "margin": null,
            "max_height": null,
            "max_width": null,
            "min_height": null,
            "min_width": null,
            "object_fit": null,
            "object_position": null,
            "order": null,
            "overflow": null,
            "overflow_x": null,
            "overflow_y": null,
            "padding": null,
            "right": null,
            "top": null,
            "visibility": null,
            "width": null
          }
        },
        "f8cf54a3d1984fa0baf78defc0f90c5d": {
          "model_module": "@jupyter-widgets/controls",
          "model_module_version": "1.5.0",
          "model_name": "DescriptionStyleModel",
          "state": {
            "_model_module": "@jupyter-widgets/controls",
            "_model_module_version": "1.5.0",
            "_model_name": "DescriptionStyleModel",
            "_view_count": null,
            "_view_module": "@jupyter-widgets/base",
            "_view_module_version": "1.2.0",
            "_view_name": "StyleView",
            "description_width": ""
          }
        }
      }
    }
  },
  "nbformat": 4,
  "nbformat_minor": 0
}
